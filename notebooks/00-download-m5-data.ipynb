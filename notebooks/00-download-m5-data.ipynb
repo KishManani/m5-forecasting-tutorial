{
 "cells": [
  {
   "cell_type": "markdown",
   "id": "60c71558-8af4-403c-8712-ee8974a22412",
   "metadata": {},
   "source": [
    "# Step 0: Download the M5 Kaggle dataset"
   ]
  },
  {
   "cell_type": "markdown",
   "id": "b2333b7d-b922-4f9d-8d7d-2191f9bf194f",
   "metadata": {},
   "source": [
    "In this notebook we provide instructions to download the data and where to place it."
   ]
  },
  {
   "cell_type": "markdown",
   "id": "15f7187d-2c7f-4301-a63a-bfc7c856e315",
   "metadata": {},
   "source": [
    "We will create a directory called `data_sources`, it will be in the same location as these notebooks. We will place the csv files from Kaggle here."
   ]
  },
  {
   "cell_type": "code",
   "execution_count": 1,
   "id": "ac614a03-0b02-42b7-abbf-ac306cdf1949",
   "metadata": {
    "tags": []
   },
   "outputs": [],
   "source": [
    "from pathlib import Path\n",
    "data_path = Path(\"../data_sources\")\n",
    "data_path.mkdir(exist_ok=True) # Make the `data_sources` directory"
   ]
  },
  {
   "cell_type": "markdown",
   "id": "c825bf3c-055d-40ef-bb1b-059eb1f80cb9",
   "metadata": {},
   "source": [
    "The data can be found here: https://www.kaggle.com/competitions/m5-forecasting-accuracy/data [1].\n",
    "\n",
    "Download the data via the Kaggle website and store all the csv files (we will only use `calendar.csv`, `sales_train_evaluation.csv`, `sell_prices.csv`) in the `data_sources` directory. The `data_sources` directory should be in the root directory of the repository (i.e., one directory above the `notebooks` directory).\n",
    " \n",
    "References:\n",
    "\n",
    "[1] Addison Howard & Spyros Makridakis, M5 Forecasting - Accuracy, Kaggle, 2020, https://kaggle.com/competitions/m5-forecasting-accuracy"
   ]
  },
  {
   "cell_type": "markdown",
   "id": "bd5ba58d-91e1-4a2e-97de-d1f2396c8a4c",
   "metadata": {},
   "source": [
    "Let's check that we've put the right files in the right location."
   ]
  },
  {
   "cell_type": "code",
   "execution_count": 2,
   "id": "38dd53e0-c0c7-4c65-970a-11ad37ef4644",
   "metadata": {},
   "outputs": [
    {
     "name": "stdout",
     "output_type": "stream",
     "text": [
      "../data_sources/sales_train_evaluation.csv exists!\n",
      "../data_sources/calendar.csv exists!\n",
      "../data_sources/sell_prices.csv exists!\n"
     ]
    }
   ],
   "source": [
    "sales_data = data_path / \"sales_train_evaluation.csv\"\n",
    "calendar_data = data_path / \"calendar.csv\"\n",
    "price_data = data_path / \"sell_prices.csv\"\n",
    "\n",
    "paths_to_data_sources = [sales_data, calendar_data, price_data]\n",
    "\n",
    "for path in paths_to_data_sources:\n",
    "    if path.is_file():\n",
    "        print(f\"{path} exists!\")\n",
    "    else:\n",
    "        print(f\"{path} does not exist! Please add it to {data_path}!\")"
   ]
  },
  {
   "cell_type": "markdown",
   "id": "07fa993d-695a-412d-87ff-852d1fd6eda5",
   "metadata": {},
   "source": [
    "Let's move onto the next notebook where we will start transforming the data into something usable."
   ]
  }
 ],
 "metadata": {
  "kernelspec": {
   "display_name": "Python 3 (ipykernel)",
   "language": "python",
   "name": "python3"
  },
  "language_info": {
   "codemirror_mode": {
    "name": "ipython",
    "version": 3
   },
   "file_extension": ".py",
   "mimetype": "text/x-python",
   "name": "python",
   "nbconvert_exporter": "python",
   "pygments_lexer": "ipython3",
   "version": "3.9.10"
  },
  "vscode": {
   "interpreter": {
    "hash": "c353dbc0844cb54de327ff22e9f707bab766d5a7d7ed2a2fa40c42a293e1bad3"
   }
  }
 },
 "nbformat": 4,
 "nbformat_minor": 5
}
