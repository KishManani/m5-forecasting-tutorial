{
 "cells": [
  {
   "cell_type": "markdown",
   "id": "60c71558-8af4-403c-8712-ee8974a22412",
   "metadata": {},
   "source": [
    "# Step 1: Make the base dataset\n",
    "\n",
    "In this notebook we will create the base dataset that we will work with for feature engineering and modelling. The base dataset is the data after joining all the relevant information we need for feature engineering and modelling (e.g., units sold, price, special events, etc.). The raw data from Kaggle comes as a set of csv files.  We will load each csv file and join them to create our base dataset. We will then compute features from this base dataset in later notebooks. \n",
    "\n",
    "In a business setting the data would likely be stored in a database in separate tables. So one common pattern would be to use SQL or Spark to create the base dataset. If we were producing a regular forecast as a batch process (e.g., a weekly forecast), we would run this step periodically as the source data gets updated."
   ]
  },
  {
   "cell_type": "code",
   "execution_count": 1,
   "id": "f7e7228c-2754-4bce-8dc2-59c2efb4666f",
   "metadata": {},
   "outputs": [],
   "source": [
    "from pathlib import Path\n",
    "\n",
    "import numpy as np\n",
    "import pandas as pd"
   ]
  },
  {
   "cell_type": "markdown",
   "id": "22f65005-7386-4f48-94ff-312b20a0cc60",
   "metadata": {},
   "source": [
    "# Config paths"
   ]
  },
  {
   "cell_type": "markdown",
   "id": "2e9d15a2-a4f9-408e-aa03-6fdd853afadb",
   "metadata": {},
   "source": [
    "Specify the directories that we will read data from and write data to. In practice we would store this information in a separate configuration file rather than duplicate it across all notebooks. For simplicity, we specify the paths in the notebook itself."
   ]
  },
  {
   "cell_type": "code",
   "execution_count": 2,
   "id": "c34eba65-84e0-4055-9cf5-46d787c1122a",
   "metadata": {},
   "outputs": [],
   "source": [
    "# Directory containing the raw data\n",
    "data_sources = Path(\"../data_sources\")\n",
    "\n",
    "# Output processed data (i.e., the base dataset)\n",
    "processed_data_dir = Path(\"../processed_data\")\n",
    "processed_data_dir.mkdir(exist_ok=True)"
   ]
  },
  {
   "cell_type": "markdown",
   "id": "6d1c3e66-31d1-4a78-9d1e-54f0cb8ea223",
   "metadata": {},
   "source": [
    "Specify path to the datasets we will use."
   ]
  },
  {
   "cell_type": "code",
   "execution_count": 3,
   "id": "ebb02318-4acb-4792-95b0-1268474cbd86",
   "metadata": {},
   "outputs": [],
   "source": [
    "sales_data = data_sources / \"sales_train_evaluation.csv\"\n",
    "calendar_and_promos_data = data_sources / \"calendar.csv\"\n",
    "price_data = data_sources / \"sell_prices.csv\""
   ]
  },
  {
   "cell_type": "markdown",
   "id": "149a97c5-cc12-4736-9ce6-776542667260",
   "metadata": {},
   "source": [
    "# Load datasets"
   ]
  },
  {
   "cell_type": "markdown",
   "id": "805d5adb-fcfd-4ac3-8a8b-a1642a48b2b9",
   "metadata": {},
   "source": [
    "We will specify `dtypes` of each column and pass this to `pd.read_csv` when loading data. This will allow us to be more memory efficient (e.g., using `category` rather than `object` to denote categorical variables in our pandas dataframes)."
   ]
  },
  {
   "cell_type": "markdown",
   "id": "905264a6-85aa-46bf-a316-9138934a9907",
   "metadata": {},
   "source": [
    "**Load sales data**"
   ]
  },
  {
   "cell_type": "code",
   "execution_count": 4,
   "id": "cd21efc8-586c-4be0-b6fc-94161bc1d22d",
   "metadata": {},
   "outputs": [
    {
     "data": {
      "text/html": [
       "<div>\n",
       "<style scoped>\n",
       "    .dataframe tbody tr th:only-of-type {\n",
       "        vertical-align: middle;\n",
       "    }\n",
       "\n",
       "    .dataframe tbody tr th {\n",
       "        vertical-align: top;\n",
       "    }\n",
       "\n",
       "    .dataframe thead th {\n",
       "        text-align: right;\n",
       "    }\n",
       "</style>\n",
       "<table border=\"1\" class=\"dataframe\">\n",
       "  <thead>\n",
       "    <tr style=\"text-align: right;\">\n",
       "      <th></th>\n",
       "      <th>id</th>\n",
       "      <th>item_id</th>\n",
       "      <th>dept_id</th>\n",
       "      <th>cat_id</th>\n",
       "      <th>store_id</th>\n",
       "      <th>state_id</th>\n",
       "      <th>d_1</th>\n",
       "      <th>d_2</th>\n",
       "      <th>d_3</th>\n",
       "      <th>d_4</th>\n",
       "      <th>...</th>\n",
       "      <th>d_1932</th>\n",
       "      <th>d_1933</th>\n",
       "      <th>d_1934</th>\n",
       "      <th>d_1935</th>\n",
       "      <th>d_1936</th>\n",
       "      <th>d_1937</th>\n",
       "      <th>d_1938</th>\n",
       "      <th>d_1939</th>\n",
       "      <th>d_1940</th>\n",
       "      <th>d_1941</th>\n",
       "    </tr>\n",
       "  </thead>\n",
       "  <tbody>\n",
       "    <tr>\n",
       "      <th>0</th>\n",
       "      <td>HOBBIES_1_001_CA_1_evaluation</td>\n",
       "      <td>HOBBIES_1_001</td>\n",
       "      <td>HOBBIES_1</td>\n",
       "      <td>HOBBIES</td>\n",
       "      <td>CA_1</td>\n",
       "      <td>CA</td>\n",
       "      <td>0</td>\n",
       "      <td>0</td>\n",
       "      <td>0</td>\n",
       "      <td>0</td>\n",
       "      <td>...</td>\n",
       "      <td>2</td>\n",
       "      <td>4</td>\n",
       "      <td>0</td>\n",
       "      <td>0</td>\n",
       "      <td>0</td>\n",
       "      <td>0</td>\n",
       "      <td>3</td>\n",
       "      <td>3</td>\n",
       "      <td>0</td>\n",
       "      <td>1</td>\n",
       "    </tr>\n",
       "    <tr>\n",
       "      <th>1</th>\n",
       "      <td>HOBBIES_1_002_CA_1_evaluation</td>\n",
       "      <td>HOBBIES_1_002</td>\n",
       "      <td>HOBBIES_1</td>\n",
       "      <td>HOBBIES</td>\n",
       "      <td>CA_1</td>\n",
       "      <td>CA</td>\n",
       "      <td>0</td>\n",
       "      <td>0</td>\n",
       "      <td>0</td>\n",
       "      <td>0</td>\n",
       "      <td>...</td>\n",
       "      <td>0</td>\n",
       "      <td>1</td>\n",
       "      <td>2</td>\n",
       "      <td>1</td>\n",
       "      <td>1</td>\n",
       "      <td>0</td>\n",
       "      <td>0</td>\n",
       "      <td>0</td>\n",
       "      <td>0</td>\n",
       "      <td>0</td>\n",
       "    </tr>\n",
       "    <tr>\n",
       "      <th>2</th>\n",
       "      <td>HOBBIES_1_003_CA_1_evaluation</td>\n",
       "      <td>HOBBIES_1_003</td>\n",
       "      <td>HOBBIES_1</td>\n",
       "      <td>HOBBIES</td>\n",
       "      <td>CA_1</td>\n",
       "      <td>CA</td>\n",
       "      <td>0</td>\n",
       "      <td>0</td>\n",
       "      <td>0</td>\n",
       "      <td>0</td>\n",
       "      <td>...</td>\n",
       "      <td>1</td>\n",
       "      <td>0</td>\n",
       "      <td>2</td>\n",
       "      <td>0</td>\n",
       "      <td>0</td>\n",
       "      <td>0</td>\n",
       "      <td>2</td>\n",
       "      <td>3</td>\n",
       "      <td>0</td>\n",
       "      <td>1</td>\n",
       "    </tr>\n",
       "    <tr>\n",
       "      <th>3</th>\n",
       "      <td>HOBBIES_1_004_CA_1_evaluation</td>\n",
       "      <td>HOBBIES_1_004</td>\n",
       "      <td>HOBBIES_1</td>\n",
       "      <td>HOBBIES</td>\n",
       "      <td>CA_1</td>\n",
       "      <td>CA</td>\n",
       "      <td>0</td>\n",
       "      <td>0</td>\n",
       "      <td>0</td>\n",
       "      <td>0</td>\n",
       "      <td>...</td>\n",
       "      <td>1</td>\n",
       "      <td>1</td>\n",
       "      <td>0</td>\n",
       "      <td>4</td>\n",
       "      <td>0</td>\n",
       "      <td>1</td>\n",
       "      <td>3</td>\n",
       "      <td>0</td>\n",
       "      <td>2</td>\n",
       "      <td>6</td>\n",
       "    </tr>\n",
       "    <tr>\n",
       "      <th>4</th>\n",
       "      <td>HOBBIES_1_005_CA_1_evaluation</td>\n",
       "      <td>HOBBIES_1_005</td>\n",
       "      <td>HOBBIES_1</td>\n",
       "      <td>HOBBIES</td>\n",
       "      <td>CA_1</td>\n",
       "      <td>CA</td>\n",
       "      <td>0</td>\n",
       "      <td>0</td>\n",
       "      <td>0</td>\n",
       "      <td>0</td>\n",
       "      <td>...</td>\n",
       "      <td>0</td>\n",
       "      <td>0</td>\n",
       "      <td>0</td>\n",
       "      <td>2</td>\n",
       "      <td>1</td>\n",
       "      <td>0</td>\n",
       "      <td>0</td>\n",
       "      <td>2</td>\n",
       "      <td>1</td>\n",
       "      <td>0</td>\n",
       "    </tr>\n",
       "  </tbody>\n",
       "</table>\n",
       "<p>5 rows × 1947 columns</p>\n",
       "</div>"
      ],
      "text/plain": [
       "                              id        item_id    dept_id   cat_id store_id  \\\n",
       "0  HOBBIES_1_001_CA_1_evaluation  HOBBIES_1_001  HOBBIES_1  HOBBIES     CA_1   \n",
       "1  HOBBIES_1_002_CA_1_evaluation  HOBBIES_1_002  HOBBIES_1  HOBBIES     CA_1   \n",
       "2  HOBBIES_1_003_CA_1_evaluation  HOBBIES_1_003  HOBBIES_1  HOBBIES     CA_1   \n",
       "3  HOBBIES_1_004_CA_1_evaluation  HOBBIES_1_004  HOBBIES_1  HOBBIES     CA_1   \n",
       "4  HOBBIES_1_005_CA_1_evaluation  HOBBIES_1_005  HOBBIES_1  HOBBIES     CA_1   \n",
       "\n",
       "  state_id  d_1  d_2  d_3  d_4  ...  d_1932  d_1933  d_1934  d_1935  d_1936  \\\n",
       "0       CA    0    0    0    0  ...       2       4       0       0       0   \n",
       "1       CA    0    0    0    0  ...       0       1       2       1       1   \n",
       "2       CA    0    0    0    0  ...       1       0       2       0       0   \n",
       "3       CA    0    0    0    0  ...       1       1       0       4       0   \n",
       "4       CA    0    0    0    0  ...       0       0       0       2       1   \n",
       "\n",
       "   d_1937  d_1938  d_1939  d_1940  d_1941  \n",
       "0       0       3       3       0       1  \n",
       "1       0       0       0       0       0  \n",
       "2       0       2       3       0       1  \n",
       "3       1       3       0       2       6  \n",
       "4       0       0       2       1       0  \n",
       "\n",
       "[5 rows x 1947 columns]"
      ]
     },
     "execution_count": 4,
     "metadata": {},
     "output_type": "execute_result"
    }
   ],
   "source": [
    "sales_dtypes = {\n",
    "    \"id\": \"category\",\n",
    "    \"item_id\": \"category\",\n",
    "    \"dept_id\": \"category\",\n",
    "    \"cat_id\": \"category\",\n",
    "    \"store_id\": \"category\",\n",
    "    \"state_id\": \"category\",\n",
    "    **{f\"d_{i}\": np.uint64 for i in range(1942)},\n",
    "}\n",
    "\n",
    "df = pd.read_csv(sales_data, dtype=sales_dtypes)\n",
    "df.head()"
   ]
  },
  {
   "cell_type": "markdown",
   "id": "1c33b1de-2111-4ba2-96f6-716025ef0ac2",
   "metadata": {},
   "source": [
    "**Load calendar & promos data**"
   ]
  },
  {
   "cell_type": "code",
   "execution_count": 5,
   "id": "86d90f98-33b4-42f6-a58b-eba6e125faf2",
   "metadata": {},
   "outputs": [
    {
     "data": {
      "text/html": [
       "<div>\n",
       "<style scoped>\n",
       "    .dataframe tbody tr th:only-of-type {\n",
       "        vertical-align: middle;\n",
       "    }\n",
       "\n",
       "    .dataframe tbody tr th {\n",
       "        vertical-align: top;\n",
       "    }\n",
       "\n",
       "    .dataframe thead th {\n",
       "        text-align: right;\n",
       "    }\n",
       "</style>\n",
       "<table border=\"1\" class=\"dataframe\">\n",
       "  <thead>\n",
       "    <tr style=\"text-align: right;\">\n",
       "      <th></th>\n",
       "      <th>date</th>\n",
       "      <th>wm_yr_wk</th>\n",
       "      <th>weekday</th>\n",
       "      <th>wday</th>\n",
       "      <th>month</th>\n",
       "      <th>year</th>\n",
       "      <th>d</th>\n",
       "      <th>event_name_1</th>\n",
       "      <th>event_type_1</th>\n",
       "      <th>event_name_2</th>\n",
       "      <th>event_type_2</th>\n",
       "      <th>snap_CA</th>\n",
       "      <th>snap_TX</th>\n",
       "      <th>snap_WI</th>\n",
       "    </tr>\n",
       "  </thead>\n",
       "  <tbody>\n",
       "    <tr>\n",
       "      <th>0</th>\n",
       "      <td>2011-01-29</td>\n",
       "      <td>11101</td>\n",
       "      <td>Saturday</td>\n",
       "      <td>1</td>\n",
       "      <td>1</td>\n",
       "      <td>2011</td>\n",
       "      <td>d_1</td>\n",
       "      <td>NaN</td>\n",
       "      <td>NaN</td>\n",
       "      <td>NaN</td>\n",
       "      <td>NaN</td>\n",
       "      <td>0</td>\n",
       "      <td>0</td>\n",
       "      <td>0</td>\n",
       "    </tr>\n",
       "    <tr>\n",
       "      <th>1</th>\n",
       "      <td>2011-01-30</td>\n",
       "      <td>11101</td>\n",
       "      <td>Sunday</td>\n",
       "      <td>2</td>\n",
       "      <td>1</td>\n",
       "      <td>2011</td>\n",
       "      <td>d_2</td>\n",
       "      <td>NaN</td>\n",
       "      <td>NaN</td>\n",
       "      <td>NaN</td>\n",
       "      <td>NaN</td>\n",
       "      <td>0</td>\n",
       "      <td>0</td>\n",
       "      <td>0</td>\n",
       "    </tr>\n",
       "    <tr>\n",
       "      <th>2</th>\n",
       "      <td>2011-01-31</td>\n",
       "      <td>11101</td>\n",
       "      <td>Monday</td>\n",
       "      <td>3</td>\n",
       "      <td>1</td>\n",
       "      <td>2011</td>\n",
       "      <td>d_3</td>\n",
       "      <td>NaN</td>\n",
       "      <td>NaN</td>\n",
       "      <td>NaN</td>\n",
       "      <td>NaN</td>\n",
       "      <td>0</td>\n",
       "      <td>0</td>\n",
       "      <td>0</td>\n",
       "    </tr>\n",
       "    <tr>\n",
       "      <th>3</th>\n",
       "      <td>2011-02-01</td>\n",
       "      <td>11101</td>\n",
       "      <td>Tuesday</td>\n",
       "      <td>4</td>\n",
       "      <td>2</td>\n",
       "      <td>2011</td>\n",
       "      <td>d_4</td>\n",
       "      <td>NaN</td>\n",
       "      <td>NaN</td>\n",
       "      <td>NaN</td>\n",
       "      <td>NaN</td>\n",
       "      <td>1</td>\n",
       "      <td>1</td>\n",
       "      <td>0</td>\n",
       "    </tr>\n",
       "    <tr>\n",
       "      <th>4</th>\n",
       "      <td>2011-02-02</td>\n",
       "      <td>11101</td>\n",
       "      <td>Wednesday</td>\n",
       "      <td>5</td>\n",
       "      <td>2</td>\n",
       "      <td>2011</td>\n",
       "      <td>d_5</td>\n",
       "      <td>NaN</td>\n",
       "      <td>NaN</td>\n",
       "      <td>NaN</td>\n",
       "      <td>NaN</td>\n",
       "      <td>1</td>\n",
       "      <td>0</td>\n",
       "      <td>1</td>\n",
       "    </tr>\n",
       "  </tbody>\n",
       "</table>\n",
       "</div>"
      ],
      "text/plain": [
       "        date  wm_yr_wk    weekday  wday  month  year    d event_name_1  \\\n",
       "0 2011-01-29     11101   Saturday     1      1  2011  d_1          NaN   \n",
       "1 2011-01-30     11101     Sunday     2      1  2011  d_2          NaN   \n",
       "2 2011-01-31     11101     Monday     3      1  2011  d_3          NaN   \n",
       "3 2011-02-01     11101    Tuesday     4      2  2011  d_4          NaN   \n",
       "4 2011-02-02     11101  Wednesday     5      2  2011  d_5          NaN   \n",
       "\n",
       "  event_type_1 event_name_2 event_type_2  snap_CA  snap_TX  snap_WI  \n",
       "0          NaN          NaN          NaN        0        0        0  \n",
       "1          NaN          NaN          NaN        0        0        0  \n",
       "2          NaN          NaN          NaN        0        0        0  \n",
       "3          NaN          NaN          NaN        1        1        0  \n",
       "4          NaN          NaN          NaN        1        0        1  "
      ]
     },
     "execution_count": 5,
     "metadata": {},
     "output_type": "execute_result"
    }
   ],
   "source": [
    "cal_dtypes = {\n",
    "    \"d\": \"category\",\n",
    "    \"wm_yr_wk\": np.uint16,\n",
    "    \"event_name_1\": \"category\",\n",
    "    \"event_type_1\": \"category\",\n",
    "    \"event_name_2\": \"category\",\n",
    "    \"event_type_2\": \"category\",\n",
    "    \"snap_CA\": np.uint8,\n",
    "    \"snap_TX\": np.uint8,\n",
    "    \"snap_WI\": np.uint8,\n",
    "}\n",
    "df_cal = pd.read_csv(calendar_and_promos_data, dtype=cal_dtypes, parse_dates=[\"date\"])\n",
    "\n",
    "df_cal.head()"
   ]
  },
  {
   "cell_type": "markdown",
   "id": "5b7d19a2-ac7b-47b2-8024-0efc22188108",
   "metadata": {},
   "source": [
    "The `event` columns represent the absence of an event with a `NaN` value. Missing data will cause issues with feature engineering steps and some ML models. So we will impute the missing values with an additional category called `\"no_event\"`."
   ]
  },
  {
   "cell_type": "code",
   "execution_count": 6,
   "id": "578da9de-770b-4d72-93c9-099eebace15d",
   "metadata": {},
   "outputs": [],
   "source": [
    "for event_col in df_cal.filter(like=\"event\").columns:\n",
    "    df_cal[event_col] = df_cal[event_col].cat.add_categories(\"no_event\").fillna(\"no_event\")"
   ]
  },
  {
   "cell_type": "markdown",
   "id": "c23e9f89-675f-48cc-b527-ac7cf9e586a5",
   "metadata": {},
   "source": [
    "**Load price data**"
   ]
  },
  {
   "cell_type": "code",
   "execution_count": 7,
   "id": "a6157f72-dcac-4a49-8cf6-721f4c4d4035",
   "metadata": {},
   "outputs": [
    {
     "data": {
      "text/html": [
       "<div>\n",
       "<style scoped>\n",
       "    .dataframe tbody tr th:only-of-type {\n",
       "        vertical-align: middle;\n",
       "    }\n",
       "\n",
       "    .dataframe tbody tr th {\n",
       "        vertical-align: top;\n",
       "    }\n",
       "\n",
       "    .dataframe thead th {\n",
       "        text-align: right;\n",
       "    }\n",
       "</style>\n",
       "<table border=\"1\" class=\"dataframe\">\n",
       "  <thead>\n",
       "    <tr style=\"text-align: right;\">\n",
       "      <th></th>\n",
       "      <th>store_id</th>\n",
       "      <th>item_id</th>\n",
       "      <th>wm_yr_wk</th>\n",
       "      <th>sell_price</th>\n",
       "    </tr>\n",
       "  </thead>\n",
       "  <tbody>\n",
       "    <tr>\n",
       "      <th>0</th>\n",
       "      <td>CA_1</td>\n",
       "      <td>HOBBIES_1_001</td>\n",
       "      <td>11325</td>\n",
       "      <td>9.58</td>\n",
       "    </tr>\n",
       "    <tr>\n",
       "      <th>1</th>\n",
       "      <td>CA_1</td>\n",
       "      <td>HOBBIES_1_001</td>\n",
       "      <td>11326</td>\n",
       "      <td>9.58</td>\n",
       "    </tr>\n",
       "    <tr>\n",
       "      <th>2</th>\n",
       "      <td>CA_1</td>\n",
       "      <td>HOBBIES_1_001</td>\n",
       "      <td>11327</td>\n",
       "      <td>8.26</td>\n",
       "    </tr>\n",
       "    <tr>\n",
       "      <th>3</th>\n",
       "      <td>CA_1</td>\n",
       "      <td>HOBBIES_1_001</td>\n",
       "      <td>11328</td>\n",
       "      <td>8.26</td>\n",
       "    </tr>\n",
       "    <tr>\n",
       "      <th>4</th>\n",
       "      <td>CA_1</td>\n",
       "      <td>HOBBIES_1_001</td>\n",
       "      <td>11329</td>\n",
       "      <td>8.26</td>\n",
       "    </tr>\n",
       "  </tbody>\n",
       "</table>\n",
       "</div>"
      ],
      "text/plain": [
       "  store_id        item_id  wm_yr_wk  sell_price\n",
       "0     CA_1  HOBBIES_1_001     11325        9.58\n",
       "1     CA_1  HOBBIES_1_001     11326        9.58\n",
       "2     CA_1  HOBBIES_1_001     11327        8.26\n",
       "3     CA_1  HOBBIES_1_001     11328        8.26\n",
       "4     CA_1  HOBBIES_1_001     11329        8.26"
      ]
     },
     "execution_count": 7,
     "metadata": {},
     "output_type": "execute_result"
    }
   ],
   "source": [
    "price_dtypes = {\n",
    "    \"store_id\": \"category\",\n",
    "    \"item_id\": \"category\",\n",
    "    \"wm_yr_wk\": np.uint16,\n",
    "    \"sell_price\": np.float64,\n",
    "}\n",
    "df_price = pd.read_csv(price_data, dtype=price_dtypes)\n",
    "\n",
    "df_price.head()"
   ]
  },
  {
   "cell_type": "markdown",
   "id": "67cd1f64-a514-44a2-97a6-494904c4e044",
   "metadata": {},
   "source": [
    "# Create a panel view of the time series"
   ]
  },
  {
   "cell_type": "markdown",
   "id": "c653fee0-6c99-44aa-974c-5b9f88c053ea",
   "metadata": {},
   "source": [
    "Create a panel view of the time series using `melt`."
   ]
  },
  {
   "cell_type": "code",
   "execution_count": 8,
   "id": "8825b029-9cfc-4d72-bfed-a42fd5bd8f7c",
   "metadata": {},
   "outputs": [
    {
     "data": {
      "text/html": [
       "<div>\n",
       "<style scoped>\n",
       "    .dataframe tbody tr th:only-of-type {\n",
       "        vertical-align: middle;\n",
       "    }\n",
       "\n",
       "    .dataframe tbody tr th {\n",
       "        vertical-align: top;\n",
       "    }\n",
       "\n",
       "    .dataframe thead th {\n",
       "        text-align: right;\n",
       "    }\n",
       "</style>\n",
       "<table border=\"1\" class=\"dataframe\">\n",
       "  <thead>\n",
       "    <tr style=\"text-align: right;\">\n",
       "      <th></th>\n",
       "      <th>id</th>\n",
       "      <th>item_id</th>\n",
       "      <th>dept_id</th>\n",
       "      <th>cat_id</th>\n",
       "      <th>store_id</th>\n",
       "      <th>state_id</th>\n",
       "      <th>d</th>\n",
       "      <th>y</th>\n",
       "    </tr>\n",
       "  </thead>\n",
       "  <tbody>\n",
       "    <tr>\n",
       "      <th>0</th>\n",
       "      <td>HOBBIES_1_001_CA_1_evaluation</td>\n",
       "      <td>HOBBIES_1_001</td>\n",
       "      <td>HOBBIES_1</td>\n",
       "      <td>HOBBIES</td>\n",
       "      <td>CA_1</td>\n",
       "      <td>CA</td>\n",
       "      <td>d_1</td>\n",
       "      <td>0</td>\n",
       "    </tr>\n",
       "    <tr>\n",
       "      <th>1</th>\n",
       "      <td>HOBBIES_1_002_CA_1_evaluation</td>\n",
       "      <td>HOBBIES_1_002</td>\n",
       "      <td>HOBBIES_1</td>\n",
       "      <td>HOBBIES</td>\n",
       "      <td>CA_1</td>\n",
       "      <td>CA</td>\n",
       "      <td>d_1</td>\n",
       "      <td>0</td>\n",
       "    </tr>\n",
       "    <tr>\n",
       "      <th>2</th>\n",
       "      <td>HOBBIES_1_003_CA_1_evaluation</td>\n",
       "      <td>HOBBIES_1_003</td>\n",
       "      <td>HOBBIES_1</td>\n",
       "      <td>HOBBIES</td>\n",
       "      <td>CA_1</td>\n",
       "      <td>CA</td>\n",
       "      <td>d_1</td>\n",
       "      <td>0</td>\n",
       "    </tr>\n",
       "    <tr>\n",
       "      <th>3</th>\n",
       "      <td>HOBBIES_1_004_CA_1_evaluation</td>\n",
       "      <td>HOBBIES_1_004</td>\n",
       "      <td>HOBBIES_1</td>\n",
       "      <td>HOBBIES</td>\n",
       "      <td>CA_1</td>\n",
       "      <td>CA</td>\n",
       "      <td>d_1</td>\n",
       "      <td>0</td>\n",
       "    </tr>\n",
       "    <tr>\n",
       "      <th>4</th>\n",
       "      <td>HOBBIES_1_005_CA_1_evaluation</td>\n",
       "      <td>HOBBIES_1_005</td>\n",
       "      <td>HOBBIES_1</td>\n",
       "      <td>HOBBIES</td>\n",
       "      <td>CA_1</td>\n",
       "      <td>CA</td>\n",
       "      <td>d_1</td>\n",
       "      <td>0</td>\n",
       "    </tr>\n",
       "  </tbody>\n",
       "</table>\n",
       "</div>"
      ],
      "text/plain": [
       "                              id        item_id    dept_id   cat_id store_id  \\\n",
       "0  HOBBIES_1_001_CA_1_evaluation  HOBBIES_1_001  HOBBIES_1  HOBBIES     CA_1   \n",
       "1  HOBBIES_1_002_CA_1_evaluation  HOBBIES_1_002  HOBBIES_1  HOBBIES     CA_1   \n",
       "2  HOBBIES_1_003_CA_1_evaluation  HOBBIES_1_003  HOBBIES_1  HOBBIES     CA_1   \n",
       "3  HOBBIES_1_004_CA_1_evaluation  HOBBIES_1_004  HOBBIES_1  HOBBIES     CA_1   \n",
       "4  HOBBIES_1_005_CA_1_evaluation  HOBBIES_1_005  HOBBIES_1  HOBBIES     CA_1   \n",
       "\n",
       "  state_id    d  y  \n",
       "0       CA  d_1  0  \n",
       "1       CA  d_1  0  \n",
       "2       CA  d_1  0  \n",
       "3       CA  d_1  0  \n",
       "4       CA  d_1  0  "
      ]
     },
     "execution_count": 8,
     "metadata": {},
     "output_type": "execute_result"
    }
   ],
   "source": [
    "df_sales = df.melt(\n",
    "    id_vars=[\"id\", \"item_id\", \"dept_id\", \"cat_id\", \"store_id\", \"state_id\"],\n",
    "    var_name=\"d\",\n",
    "    value_name=\"y\", # `y` is the number of units sold on a given day\n",
    ")\n",
    "\n",
    "df_sales.head()"
   ]
  },
  {
   "cell_type": "markdown",
   "id": "0d543ed5-5d8e-47c8-8030-31a5b3fc58b9",
   "metadata": {},
   "source": [
    "# Create base data set by joining date, special events, and promos columns to sales dataframe."
   ]
  },
  {
   "cell_type": "markdown",
   "id": "301b8678-f799-472e-b39a-775ed1a46ce8",
   "metadata": {},
   "source": [
    "Join calendar data to sales dataframe."
   ]
  },
  {
   "cell_type": "code",
   "execution_count": 9,
   "id": "9f2f48cf-5b2e-47d0-9cd9-d623a3a8a4a5",
   "metadata": {},
   "outputs": [],
   "source": [
    "df_sales = df_sales.merge(\n",
    "    right=df_cal[\n",
    "        [\n",
    "            \"d\",\n",
    "            \"date\",\n",
    "            \"wm_yr_wk\",\n",
    "            \"event_name_1\",\n",
    "            \"event_type_1\",\n",
    "            \"event_name_2\",\n",
    "            \"event_type_2\",\n",
    "            \"snap_CA\",\n",
    "            \"snap_TX\",\n",
    "            \"snap_WI\",\n",
    "        ]\n",
    "    ],\n",
    "    on=\"d\",\n",
    ")"
   ]
  },
  {
   "cell_type": "markdown",
   "id": "60280278-cd41-4efe-b669-40a8592f33de",
   "metadata": {},
   "source": [
    "Join price column to sales dataframe."
   ]
  },
  {
   "cell_type": "code",
   "execution_count": null,
   "id": "0607b24d-0aed-4d8c-a33a-505757696b35",
   "metadata": {},
   "outputs": [],
   "source": [
    "df_sales = df_sales.merge(right=df_price, on=[\"store_id\", \"item_id\", \"wm_yr_wk\"])"
   ]
  },
  {
   "cell_type": "markdown",
   "id": "081d14c4-e3e6-4919-bd95-9e78badc05c2",
   "metadata": {},
   "source": [
    "Sort by time series id and date, and drop columns that are not needed. "
   ]
  },
  {
   "cell_type": "code",
   "execution_count": null,
   "id": "436c7ee7-9daf-45a9-9dc0-7fea45859c32",
   "metadata": {},
   "outputs": [],
   "source": [
    "df_sales =(\n",
    "          df_sales.sort_values(by=[\"id\", \"date\"])  # Sort by time series id and date.\n",
    "                   .drop(columns=[\"wm_yr_wk\", \"d\"])  # Drop columns that are no longer needed.\n",
    "          )"
   ]
  },
  {
   "cell_type": "markdown",
   "id": "07eaa3d1-386d-4b58-b15e-c1cdb97dba5a",
   "metadata": {},
   "source": [
    "df_sales.head()\n",
    "Let's look at the final dataset."
   ]
  },
  {
   "cell_type": "code",
   "execution_count": null,
   "id": "aaa4e2aa-bd46-4f39-9a21-2518fc36ff27",
   "metadata": {},
   "outputs": [],
   "source": [
    "df_sales.head()\n"
   ]
  },
  {
   "cell_type": "code",
   "execution_count": null,
   "id": "b097f535-5320-4baf-b66c-dd3cc557ef6d",
   "metadata": {},
   "outputs": [],
   "source": [
    "display(df_sales.shape)"
   ]
  },
  {
   "cell_type": "markdown",
   "id": "4a6d4ad6-fb6a-449d-9559-1f729ed80f74",
   "metadata": {},
   "source": [
    "Let's save the full dataset as parquet (far more memory efficient than csv). In this example, we will partition the data by `store_id` so we can make it easier to read the data of just one store. \n",
    "\n",
    "See these links to learn more about working with the parquet file format:  \n",
    "* https://parquet.apache.org/docs/\n",
    "* https://towardsdatascience.com/easy-parquet-tutorial-best-practices-237955e46cb7\n",
    "* https://blog.datasyndrome.com/python-and-parquet-performance-e71da65269ce"
   ]
  },
  {
   "cell_type": "code",
   "execution_count": null,
   "id": "5d3ccb2d-7534-4644-8992-1b81c799a35d",
   "metadata": {},
   "outputs": [],
   "source": [
    "f_out = processed_data_dir / \"data\" # We specify a directory rather than a file when\n",
    "                                    # saving partitioned data.\n",
    "df_sales.to_parquet(f_out, \n",
    "                    index=False, \n",
    "                    engine=\"pyarrow\", \n",
    "                    partition_cols=[\"store_id\"]\n",
    "                   )"
   ]
  },
  {
   "cell_type": "markdown",
   "id": "636259e6-c2c2-47ae-bd46-b140eaff60d1",
   "metadata": {},
   "source": [
    "# An aside on row groups"
   ]
  },
  {
   "cell_type": "markdown",
   "id": "ed653b03-d763-4c69-90b0-19503870c515",
   "metadata": {},
   "source": [
    "See the below article on predicate pushdown filtering and row groups. This allows us to apply filters before the data is read into memory, which is pretty neat!\n",
    "\n",
    "http://peter-hoffmann.com/2020/understand-predicate-pushdown-on-rowgroup-level-in-parquet-with-pyarrow-and-python.html"
   ]
  },
  {
   "cell_type": "code",
   "execution_count": null,
   "id": "eb28ff50-356e-4c42-8677-35c5e061989f",
   "metadata": {},
   "outputs": [],
   "source": [
    "f_in = processed_data_dir / \"data\"\n",
    "df = pd.read_parquet(\n",
    "    path=f_in, \n",
    "    engine=\"pyarrow\",\n",
    "    filters=[\n",
    "             (\"store_id\", \"=\", \"CA_1\"), # Only load this partition.\n",
    "             (\"date\", \">=\", pd.to_datetime(\"2012-01-01\")) # Filter on date if\n",
    "                                                          # desired.\n",
    "            ]                           \n",
    ")"
   ]
  },
  {
   "cell_type": "code",
   "execution_count": null,
   "id": "6bc91f45-3775-4000-92a2-d37190d02627",
   "metadata": {},
   "outputs": [],
   "source": [
    "import pyarrow.parquet as pq"
   ]
  },
  {
   "cell_type": "markdown",
   "id": "9b4cffdf-028b-40fd-9b7b-0ca150ec9b3e",
   "metadata": {},
   "source": [
    "Let's look at a specific parquet file in our partition."
   ]
  },
  {
   "cell_type": "code",
   "execution_count": null,
   "id": "d11bd08f-d6f8-4eb6-93cc-9049e4d035ec",
   "metadata": {},
   "outputs": [],
   "source": [
    "pq_file = pq.ParquetFile(f_out / \"store_id=CA_1\" / \"e77d9d89c6c5408896fa2d767a1e9a6d-0.parquet\")"
   ]
  },
  {
   "cell_type": "code",
   "execution_count": null,
   "id": "62d239a5-e192-4365-b135-e4a8d78901ee",
   "metadata": {},
   "outputs": [],
   "source": [
    "display([\"columns:\", pq_file.metadata.num_columns],\n",
    "        [\"rows:\", pq_file.metadata.num_rows],\n",
    "        [\"row_roups:\", pq_file.metadata.num_row_groups])"
   ]
  },
  {
   "cell_type": "code",
   "execution_count": null,
   "id": "6a2e6c1a-9e8d-4397-84b6-00f35931d870",
   "metadata": {},
   "outputs": [],
   "source": [
    "pq_file.metadata.row_group(0)"
   ]
  },
  {
   "cell_type": "code",
   "execution_count": null,
   "id": "2f5fbadb-e440-4838-9f45-b036db22389f",
   "metadata": {},
   "outputs": [],
   "source": [
    "pq_file.read_row_group(0).to_pandas()"
   ]
  },
  {
   "cell_type": "code",
   "execution_count": null,
   "id": "c27835e7-79e1-4430-8b4e-651b70f10f88",
   "metadata": {},
   "outputs": [],
   "source": [
    "pq_file.metadata.row_group(0).column(6)"
   ]
  }
 ],
 "metadata": {
  "kernelspec": {
   "display_name": "Python 3 (ipykernel)",
   "language": "python",
   "name": "python3"
  },
  "language_info": {
   "codemirror_mode": {
    "name": "ipython",
    "version": 3
   },
   "file_extension": ".py",
   "mimetype": "text/x-python",
   "name": "python",
   "nbconvert_exporter": "python",
   "pygments_lexer": "ipython3",
   "version": "3.9.10"
  },
  "vscode": {
   "interpreter": {
    "hash": "e4d3367f26284d1c360f4b08d0535a5ca6c77b5fead82e39e12bf29ce18c45ee"
   }
  }
 },
 "nbformat": 4,
 "nbformat_minor": 5
}
